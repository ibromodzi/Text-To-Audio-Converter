{
 "cells": [
  {
   "cell_type": "code",
   "execution_count": 1,
   "metadata": {},
   "outputs": [],
   "source": [
    "#importing libraries\n",
    "from gtts import gTTS\n",
    "import PyPDF2\n",
    "import os \n",
    "from docx2python import docx2python"
   ]
  },
  {
   "cell_type": "code",
   "execution_count": 3,
   "metadata": {},
   "outputs": [],
   "source": [
    "def TextToAudio(text):\n",
    "    '''\n",
    "    get the text and convert to audio\n",
    "    '''\n",
    "    to_audio = gTTS(text)\n",
    "    return to_audio.save('Audio files/text.mp3')\n",
    "    \n",
    "    "
   ]
  },
  {
   "cell_type": "code",
   "execution_count": 4,
   "metadata": {},
   "outputs": [],
   "source": [
    "#text = PdfReader(r\"C:\\Users\\ibrom\\Desktop\\RESEARCH FUNDAMENTALS.pdf\")"
   ]
  },
  {
   "cell_type": "code",
   "execution_count": 5,
   "metadata": {},
   "outputs": [],
   "source": [
    "#TextToAudio(text)"
   ]
  },
  {
   "cell_type": "code",
   "execution_count": 5,
   "metadata": {},
   "outputs": [],
   "source": [
    "def FileReader(file):\n",
    "    \n",
    "    '''\n",
    "    Handle multiple files here\n",
    "    The extension of the file is checked and we read it appropriately\n",
    "    The extracted file is then returned\n",
    "    \n",
    "    '''\n",
    "    _, file_extension = os.path.splitext(file)\n",
    "    \n",
    "    #check the file extension and read appropriately\n",
    "    #read .docx file\n",
    "    if file_extension == '.docx':\n",
    "        text = docx2python(file).text\n",
    "        return ' '.join(text)\n",
    "    \n",
    "    #read .pdf file\n",
    "    elif file_extension == '.pdf':\n",
    "        pdf = open(file, 'rb')\n",
    "        PdfReader = PyPDF2.PdfFileReader(pdf)            #instance of Pypdf\n",
    "        text = \" \"                                       #empty string to hold the pdf text\n",
    "\n",
    "        for page_number in range(PdfReader.numPages):    #loop through the pages and get the text\n",
    "            page = PdfReader.getPage(page_number)\n",
    "            text += page.extractText()\n",
    "\n",
    "        pdf.close\n",
    "        return ' '.join(text)\n",
    "    \n",
    "    #read txt file\n",
    "    elif file_extension =='.txt':\n",
    "        with open(file, 'r') as f:\n",
    "            text = f.read()\n",
    "        \n",
    "        return ''.join(text)\n",
    "        "
   ]
  },
  {
   "cell_type": "code",
   "execution_count": null,
   "metadata": {},
   "outputs": [],
   "source": []
  }
 ],
 "metadata": {
  "kernelspec": {
   "display_name": "Python 3",
   "language": "python",
   "name": "python3"
  },
  "language_info": {
   "codemirror_mode": {
    "name": "ipython",
    "version": 3
   },
   "file_extension": ".py",
   "mimetype": "text/x-python",
   "name": "python",
   "nbconvert_exporter": "python",
   "pygments_lexer": "ipython3",
   "version": "3.7.4"
  }
 },
 "nbformat": 4,
 "nbformat_minor": 2
}
